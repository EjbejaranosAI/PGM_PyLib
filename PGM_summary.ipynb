{
 "cells": [
  {
   "cell_type": "markdown",
   "metadata": {},
   "source": [
    "# PGM PyLib: A Toolkit for Probabilistic Graphical Models in Python\n",
    "### Authors: Jonathan Serrano-Perez - L. Enrique Sucar\n",
    "\n",
    " From: Instituto Nacional de Astrofísica, Óptica y Electrónica, Puebla, Mexico\n",
    "\n",
    "PGM PyLib is a toolkit that contains a wide range of Probabilistic Graphical Models algorithms implemented in Python, and serves as a companion of the book Probabilistic Graphical Models: Principles and Applications. Currently, the algorithms implemented include: Bayesian classifiers, hidden Markov models, Markov random fields, and Bayesian networks; as well as some general functions. The toolkit is open source, can be downloaded from: https://github.com/jona2510/PGM_PyLib .\n",
    "\n",
    "\n",
    "## Presented by Edison Bejarano Universitat Politècnica de Catalunya, Spain - 2022"
   ]
  },
  {
   "cell_type": "markdown",
   "metadata": {},
   "source": [
    "## 1. EXAMPLE OF A BAN CLASSIFIER\n",
    "An example of how to use the BAN classifier is presented. \n",
    "1. First of all, it is required to import the package which contains the classifier.\n",
    "\n"
   ]
  },
  {
   "cell_type": "code",
   "execution_count": 11,
   "metadata": {},
   "outputs": [],
   "source": [
    "# Example of a BAN classifier in Python\n",
    "import numpy as np\n",
    "import PGM_PyLib.augmented as abc"
   ]
  },
  {
   "cell_type": "code",
   "execution_count": 12,
   "metadata": {},
   "outputs": [],
   "source": [
    "# In this case we are considering a problem with 4 classes and 5 attributes. \n",
    "\n",
    "np.random.seed(0)   # it is not necessary\n",
    "# Four classes\n",
    "# 5 attributes\n",
    "\n",
    "# 100 instances for training\n",
    "data_train = np.random.randint(0,5,size=(100,5))\n",
    "cl_train = np.random.randint(0,4,size=100)"
   ]
  },
  {
   "cell_type": "code",
   "execution_count": null,
   "metadata": {},
   "outputs": [],
   "source": [
    "# Once the data is ready, the next step is to instantiate the classifier with its parameters\n",
    "# 50 instances for testing\n",
    "\n",
    "data_test = np.random.randint(0,5,size=(50,5))\n",
    "cl_test = np.random.randint(0,4,size=50) \n",
    "\n",
    "\n",
    "# in this case, the structure is generated automatically, the smooth used for the estimations of \n",
    "# probabilities is 0.1 and the prior probabilities will be used in the prediction phase.\n",
    "\n",
    "# create the classifiers \n",
    "c = abc.augmentedBC(algStructure=\"auto\", smooth=0.1, usePrior=True)"
   ]
  },
  {
   "cell_type": "code",
   "execution_count": 14,
   "metadata": {},
   "outputs": [
    {
     "name": "stdout",
     "output_type": "stream",
     "text": [
      "0.24\n",
      "0.24\n"
     ]
    }
   ],
   "source": [
    "#   Then, the classifier is trained with training data. \n",
    "# train the classifier\n",
    "c.fit(data_train, cl_train)\n",
    "\n",
    "#  Once the classifier is trained, it is used to predict the class of new instances.\n",
    "# \n",
    "#  # predict \n",
    "p = c.predict(data_test)\n",
    "# evaluation\n",
    "print(c.exactMatch(cl_test, p))\n",
    "\n",
    "#  Finally, an evaluation measure such as exact-match/accuracy \n",
    "# can be used to evaluated the performance of the classifier .\n",
    "# ignore the Prior probabilities\n",
    "c.usePrior = False\n",
    "p = c.predict(data_test)        # predict\n",
    "print(c.exactMatch(cl_test, p)) # evaluation\n",
    "\n",
    "\n"
   ]
  },
  {
   "cell_type": "markdown",
   "metadata": {},
   "source": [
    "## 2.EXAMPLE OF HNN (Hidden Markov Model)\n",
    "The package that contains the HMM is imported"
   ]
  },
  {
   "cell_type": "markdown",
   "metadata": {},
   "source": [
    "1. The observation sequence is shown in line 9, and it is evaluated with the forward algorithm\n",
    "2. the most probable sequence of states is obtained with the Viterbi algorithm"
   ]
  },
  {
   "cell_type": "code",
   "execution_count": 48,
   "metadata": {},
   "outputs": [],
   "source": [
    "'''Hidden Markov Models (HMMs) can be seen as a double stochastic process, \n",
    "that is, a hidden stochastic process that we can not directly observe, and a \n",
    "second stochastic process that produces the sequence of observations given the \n",
    "first process. The toolkit includes algorithms to solve the following problems: \n",
    "evaluation - forward, state estimation -\n",
    " Viterbi, and learning - Baum-Welch.'''\n",
    " \n",
    "import PGM_PyLib.HMM as hmm\n"
   ]
  },
  {
   "cell_type": "code",
   "execution_count": 19,
   "metadata": {},
   "outputs": [
    {
     "name": "stdout",
     "output_type": "stream",
     "text": [
      "Score of: H,H,T,T\n",
      "0.0625\n",
      "Most probable state at each time t:\n",
      "['M1', 'M1', 'M2', 'M2']\n",
      "Most probable sequence of states:\n",
      "['M1', 'M1', 'M2', 'M2']\n"
     ]
    }
   ],
   "source": [
    "states = [\"M1\", \"M2\"]\n",
    "obs = [\"H\", \"T\"]\n",
    "PI = np.array( [0.5, 0.5] )\t#prior probabilities\n",
    "A = np.array( [[0.5, 0.5], [0.5, 0.5]] ) #transition probabilities\n",
    "B = np.array( [[0.8, 0.2], [0.2, 0.8]] ) #observation probabilities\n",
    "\n",
    "# Inializating the model with all its parameters\n",
    "h = hmm.HMM(states=states, observations=obs, prior=PI, transition=A, observation=B)\n",
    "\n",
    "O = [\"H\",\"H\",\"T\",\"T\"] # observation sequence\n",
    "\n",
    "# evaluating an observation sequence\n",
    "print(\"Score of: H,H,T,T\")\n",
    "print(h.forward(O))\n",
    "\n",
    "# obtaining the most probable state at each time t\n",
    "lmps = [h.MPS(i,O) for i in range(1, len(O)+1) ]\n",
    "print(\"Most probable state at each time t:\")\n",
    "print(lmps)\n",
    "\n",
    "# obtaining the most probable sequence of states\n",
    "mpss,score = h.viterbi(O)\n",
    "print(\"Most probable sequence of states:\")\n",
    "print(mpss)\n"
   ]
  },
  {
   "cell_type": "markdown",
   "metadata": {},
   "source": [
    "# 3. Example of Bayesian Networks\n",
    "\n",
    "• Chow-Liu Procedure (CLP): it estimates the Mutual Information (MI) between each pair of variables, and uses the pairs of variables with the highest MI for building the skeleton of a tree. Directions of the arcs are given by selecting one variable as the root of the tree and assigning directions to the arcs starting from the root.\n",
    "\n",
    "• CLP with Conditional Mutual Information (CLP-CMI): it follows the same principles than CLP, however, CMI is estimated for each pair of variables given a third, this last is an addi- tional variable that is used for all the CMI estimations."
   ]
  },
  {
   "cell_type": "markdown",
   "metadata": {},
   "source": [
    "\n",
    "## CLP - Bayesian Networks\n"
   ]
  },
  {
   "cell_type": "code",
   "execution_count": 46,
   "metadata": {},
   "outputs": [
    {
     "name": "stdout",
     "output_type": "stream",
     "text": [
      "[[0 0 1 0 0 0 0]\n",
      " [0 0 0 0 0 0 0]\n",
      " [0 0 0 0 1 0 0]\n",
      " [0 0 0 0 0 0 1]\n",
      " [0 0 0 1 0 0 0]\n",
      " [0 0 0 0 0 0 0]\n",
      " [0 1 0 0 0 1 0]]\n",
      "\n",
      "[[0 0 0 0 0 0 0]\n",
      " [0 0 0 0 0 0 0]\n",
      " [1 0 0 0 0 0 0]\n",
      " [0 0 0 0 1 0 0]\n",
      " [0 0 1 0 0 0 0]\n",
      " [0 0 0 0 0 0 0]\n",
      " [0 1 0 1 0 1 0]]\n",
      "6\n"
     ]
    }
   ],
   "source": [
    "import PGM_PyLib.structures.trees as trees\n",
    "\n",
    "np.random.seed (0)  # it is not necessary\n",
    "\n",
    "# 7 variables \n",
    "# 500 instances \n",
    "data = np.random.randint(0,4,size=(500,3))\n",
    "data = np.concatenate([data, np.random.randint(2,6,size=(500,4))],axis=1)\n",
    "\n",
    "# create a instance of CLP_MI\n",
    "clp = trees.CLP_MI(root=0, heuristic=False, smooth=0.1)\n",
    "# create the structure\n",
    "structure = clp.createStructure(data)\n",
    "# show structure\n",
    "print(structure)\n",
    "print()\n",
    "\n",
    "# Use heuristic to automatically select the root of the tree\n",
    "clp.heuristic = True\n",
    "structure_clp = clp.createStructure(data)\n",
    "#show structure\n",
    "print(structure_clp)\n",
    "\n",
    "#show the root node of the tree\n",
    "print(clp.root)"
   ]
  },
  {
   "cell_type": "code",
   "execution_count": 47,
   "metadata": {},
   "outputs": [
    {
     "data": {
      "image/png": "[encoded data removed]",
      "text/plain": [
       "<Figure size 432x288 with 1 Axes>"
      ]
     },
     "metadata": {},
     "output_type": "display_data"
    }
   ],
   "source": [
    "import networkx as nx\n",
    "# If you can represent your network you can use netwroks module\n",
    "G_clp = nx.from_numpy_matrix(structure_clp)\n",
    "pos_clp = nx.kamada_kawai_layout(G_clp)\n",
    "# draw the graph\n",
    "nx.draw(G_clp, pos_clp, with_labels=True)"
   ]
  },
  {
   "cell_type": "markdown",
   "metadata": {},
   "source": [
    "## CLP-CMI - Bayesian Networks"
   ]
  },
  {
   "cell_type": "code",
   "execution_count": 38,
   "metadata": {},
   "outputs": [
    {
     "name": "stdout",
     "output_type": "stream",
     "text": [
      "[[0 0 0 0 1 0 0]\n",
      " [0 0 0 0 0 0 0]\n",
      " [0 0 0 0 0 0 1]\n",
      " [0 1 0 0 0 0 0]\n",
      " [0 0 1 1 0 0 0]\n",
      " [0 0 0 0 0 0 0]\n",
      " [0 0 0 0 0 1 0]]\n",
      "\n",
      "[[0 0 0 0 0 0 0]\n",
      " [0 0 0 0 0 0 0]\n",
      " [0 0 0 0 0 0 1]\n",
      " [0 1 0 0 0 0 0]\n",
      " [1 0 1 1 0 0 0]\n",
      " [0 0 0 0 0 0 0]\n",
      " [0 0 0 0 0 1 0]]\n",
      "4\n"
     ]
    }
   ],
   "source": [
    "import PGM_PyLib.structures.trees as trees\n",
    "\n",
    "np.random.seed (0)  # it is not necessary\n",
    "\n",
    "# 7 variables \n",
    "# 500 instances \n",
    "data = np.random.randint(0,4,size=(500,3))\n",
    "data = np.concatenate([data, np.random.randint(2,6,size=(500,4))],axis=1)\n",
    "#aditional variable\n",
    "z = np.random.randint(1,5,size=(500))\n",
    "\n",
    "# create a instance of CLP_CMI\n",
    "clp_cmi = trees.CLP_CMI(root=0, heuristic=False, smooth=0.1)\n",
    "# create the structure\n",
    "structure = clp_cmi.createStructure(data, z)\n",
    "# show structure\n",
    "print(structure)\n",
    "print()\n",
    "\n",
    "# Use heuristic to automatically select the root of the tree\n",
    "clp_cmi.heuristic = True\n",
    "structure_clp_cmi = clp_cmi.createStructure(data, z)\n",
    "#show structure\n",
    "print(structure_clp_cmi)\n",
    "\n",
    "#show the root node of the tree\n",
    "print(clp_cmi.root)\n"
   ]
  },
  {
   "cell_type": "code",
   "execution_count": 39,
   "metadata": {},
   "outputs": [
    {
     "data": {
      "image/png": "[encoded data removed]",
      "text/plain": [
       "<Figure size 432x288 with 1 Axes>"
      ]
     },
     "metadata": {},
     "output_type": "display_data"
    }
   ],
   "source": [
    "# If you can represent your network you can use netwroks module\n",
    "G_cmi = nx.from_numpy_matrix(structure_clp_cmi)\n",
    "pos = nx.kamada_kawai_layout(G_cmi)\n",
    "# draw the graph\n",
    "nx.draw(G_cmi, pos, with_labels=True)"
   ]
  }
 ],
 "metadata": {
  "kernelspec": {
   "display_name": "Python 3.9.12 ('base')",
   "language": "python",
   "name": "python3"
  },
  "language_info": {
   "codemirror_mode": {
    "name": "ipython",
    "version": 3
   },
   "file_extension": ".py",
   "mimetype": "text/x-python",
   "name": "python",
   "nbconvert_exporter": "python",
   "pygments_lexer": "ipython3",
   "version": "3.9.12"
  },
  "orig_nbformat": 4,
  "vscode": {
   "interpreter": {
    "hash": "c6e4e9f98eb68ad3b7c296f83d20e6de614cb42e90992a65aa266555a3137d0d"
   }
  }
 },
 "nbformat": 4,
 "nbformat_minor": 2
}
